{
  "nbformat": 4,
  "nbformat_minor": 0,
  "metadata": {
    "colab": {
      "provenance": []
    },
    "kernelspec": {
      "name": "python3",
      "display_name": "Python 3"
    },
    "language_info": {
      "name": "python"
    }
  },
  "cells": [
    {
      "cell_type": "code",
      "execution_count": null,
      "metadata": {
        "colab": {
          "base_uri": "https://localhost:8080/"
        },
        "id": "aw9H-yrskCWb",
        "outputId": "9f3151d1-759e-4638-d480-605e6e671387"
      },
      "outputs": [
        {
          "output_type": "stream",
          "name": "stdout",
          "text": [
            "Collecting pyspark\n",
            "  Downloading pyspark-3.5.0.tar.gz (316.9 MB)\n",
            "\u001b[2K     \u001b[90m━━━━━━━━━━━━━━━━━━━━━━━━━━━━━━━━━━━━━━━━\u001b[0m \u001b[32m316.9/316.9 MB\u001b[0m \u001b[31m4.8 MB/s\u001b[0m eta \u001b[36m0:00:00\u001b[0m\n",
            "\u001b[?25h  Preparing metadata (setup.py) ... \u001b[?25l\u001b[?25hdone\n",
            "Requirement already satisfied: py4j==0.10.9.7 in /usr/local/lib/python3.10/dist-packages (from pyspark) (0.10.9.7)\n",
            "Building wheels for collected packages: pyspark\n",
            "  Building wheel for pyspark (setup.py) ... \u001b[?25l\u001b[?25hdone\n",
            "  Created wheel for pyspark: filename=pyspark-3.5.0-py2.py3-none-any.whl size=317425344 sha256=52509689f1b0e3eef930b5704b37e023fde1952dcd2aba25c3c1d6cf698290f0\n",
            "  Stored in directory: /root/.cache/pip/wheels/41/4e/10/c2cf2467f71c678cfc8a6b9ac9241e5e44a01940da8fbb17fc\n",
            "Successfully built pyspark\n",
            "Installing collected packages: pyspark\n",
            "Successfully installed pyspark-3.5.0\n"
          ]
        }
      ],
      "source": [
        "!pip install pyspark\n"
      ]
    },
    {
      "cell_type": "code",
      "source": [
        "import pyspark\n",
        "from pyspark.sql import SparkSession\n",
        "spark=SparkSession.builder.appName(\"Spark\").getOrCreate()"
      ],
      "metadata": {
        "id": "4eTzDcPWkzz-"
      },
      "execution_count": null,
      "outputs": []
    },
    {
      "cell_type": "code",
      "source": [
        "food=spark.read.csv(\"/content/indian_food.csv\",header=True)\n",
        "food.show()"
      ],
      "metadata": {
        "colab": {
          "base_uri": "https://localhost:8080/"
        },
        "id": "H8YP3f8YlXJB",
        "outputId": "bab9d7a9-26c7-4e5d-a521-eccce86322ba"
      },
      "execution_count": null,
      "outputs": [
        {
          "output_type": "stream",
          "name": "stdout",
          "text": [
            "+--------------+--------------------+----------+---------+---------+--------------+-------+-------------+------+\n",
            "|          name|         ingredients|      diet|prep_time|cook_time|flavor_profile| course|        state|region|\n",
            "+--------------+--------------------+----------+---------+---------+--------------+-------+-------------+------+\n",
            "|    Balu shahi|Maida flour, yogu...|vegetarian|       45|       25|         sweet|dessert|  West Bengal|  East|\n",
            "|        Boondi|Gram flour, ghee,...|vegetarian|       80|       30|         sweet|dessert|    Rajasthan|  West|\n",
            "|Gajar ka halwa|Carrots, milk, su...|vegetarian|       15|       60|         sweet|dessert|       Punjab| North|\n",
            "|        Ghevar|Flour, ghee, kewr...|vegetarian|       15|       30|         sweet|dessert|    Rajasthan|  West|\n",
            "|   Gulab jamun|Milk powder, plai...|vegetarian|       15|       40|         sweet|dessert|  West Bengal|  East|\n",
            "|        Imarti|Sugar syrup, lent...|vegetarian|       10|       50|         sweet|dessert|  West Bengal|  East|\n",
            "|        Jalebi|Maida, corn flour...|vegetarian|       10|       50|         sweet|dessert|Uttar Pradesh| North|\n",
            "|    Kaju katli|Cashews, ghee, ca...|vegetarian|       10|       20|         sweet|dessert|           -1|    -1|\n",
            "|      Kalakand|Milk, cottage che...|vegetarian|       20|       30|         sweet|dessert|  West Bengal|  East|\n",
            "|         Kheer|Milk, rice, sugar...|vegetarian|       10|       40|         sweet|dessert|           -1|    -1|\n",
            "|         Laddu|Gram flour, ghee,...|vegetarian|       10|       40|         sweet|dessert|           -1|    -1|\n",
            "|         Lassi|Yogurt, milk, nut...|vegetarian|        5|        5|         sweet|dessert|       Punjab| North|\n",
            "|     Nankhatai|Refined flour, be...|vegetarian|       20|       30|         sweet|dessert|           -1|    -1|\n",
            "|         Petha|Firm white pumpki...|vegetarian|       10|       30|         sweet|dessert|Uttar Pradesh| North|\n",
            "|        Phirni|   Rice, sugar, nuts|vegetarian|       30|       20|         sweet|dessert|       Odisha|  East|\n",
            "|         Rabri|Condensed milk, s...|vegetarian|       10|       45|         sweet|dessert|Uttar Pradesh| North|\n",
            "|        Sheera|Semolina, ghee, n...|vegetarian|       10|       25|         sweet|dessert|  Maharashtra|  West|\n",
            "|       Singori|Khoa, coconut, mo...|vegetarian|       10|       20|         sweet|dessert|  Uttarakhand| North|\n",
            "|   Sohan halwa|Corn flour, ghee,...|vegetarian|       10|       60|         sweet|dessert|Uttar Pradesh| North|\n",
            "|   Sohan papdi|Gram flour, ghee,...|vegetarian|       -1|       60|         sweet|dessert|  Maharashtra|  West|\n",
            "+--------------+--------------------+----------+---------+---------+--------------+-------+-------------+------+\n",
            "only showing top 20 rows\n",
            "\n"
          ]
        }
      ]
    },
    {
      "cell_type": "code",
      "source": [
        "#Find out how many unique dishes are present\n",
        "unique_dishes=food.select(\"name\").count()\n",
        "unique_dishes\n"
      ],
      "metadata": {
        "colab": {
          "base_uri": "https://localhost:8080/"
        },
        "id": "MMOxKXlnl65f",
        "outputId": "ad42f4a4-cc01-4c1b-922f-fcb668443730"
      },
      "execution_count": null,
      "outputs": [
        {
          "output_type": "execute_result",
          "data": {
            "text/plain": [
              "255"
            ]
          },
          "metadata": {},
          "execution_count": 5
        }
      ]
    },
    {
      "cell_type": "code",
      "source": [
        "#Which state has more dishes\n",
        "state_dishes_count=food.groupBy(\"state\").count().orderBy(\"count\",ascending=False).first()[0]\n",
        "state_dishes_count"
      ],
      "metadata": {
        "colab": {
          "base_uri": "https://localhost:8080/",
          "height": 35
        },
        "id": "78kqWXuZmdvj",
        "outputId": "60a949e5-0699-4f19-d486-305ef9cdcc08"
      },
      "execution_count": null,
      "outputs": [
        {
          "output_type": "execute_result",
          "data": {
            "text/plain": [
              "'Gujarat'"
            ],
            "application/vnd.google.colaboratory.intrinsic+json": {
              "type": "string"
            }
          },
          "metadata": {},
          "execution_count": 6
        }
      ]
    },
    {
      "cell_type": "code",
      "source": [
        "#How many Dishes from state Karnataka\n",
        "from pyspark.sql.functions import col\n",
        "food.filter(col(\"state\")==\"Karnataka\").count()"
      ],
      "metadata": {
        "colab": {
          "base_uri": "https://localhost:8080/"
        },
        "id": "k-zUO1DXojXJ",
        "outputId": "8dbb96d8-84d6-4a6a-d8ed-f61a9100bd67"
      },
      "execution_count": null,
      "outputs": [
        {
          "output_type": "execute_result",
          "data": {
            "text/plain": [
              "6"
            ]
          },
          "metadata": {},
          "execution_count": 7
        }
      ]
    },
    {
      "cell_type": "code",
      "source": [
        "#List the number of unique regions\n",
        "food=food.na.drop()\n",
        "regions=food.select(\"region\").distinct()\n",
        "regions.show()"
      ],
      "metadata": {
        "colab": {
          "base_uri": "https://localhost:8080/"
        },
        "id": "v-fRWbFvwkAC",
        "outputId": "170e20c8-47a1-49af-e986-a464ad49c5d1"
      },
      "execution_count": null,
      "outputs": [
        {
          "output_type": "stream",
          "name": "stdout",
          "text": [
            "+----------+\n",
            "|    region|\n",
            "+----------+\n",
            "|        -1|\n",
            "|     South|\n",
            "|   Central|\n",
            "|      East|\n",
            "|      West|\n",
            "|North East|\n",
            "|     North|\n",
            "+----------+\n",
            "\n"
          ]
        }
      ]
    },
    {
      "cell_type": "code",
      "source": [
        "#Count the number of dishes from each region\n",
        "no_of_dishes_per_region=food.groupBy(\"region\").count().orderBy(\"count\")\n",
        "no_of_dishes_per_region.show()"
      ],
      "metadata": {
        "colab": {
          "base_uri": "https://localhost:8080/"
        },
        "id": "TQg1Ad2l4CaL",
        "outputId": "1c07b132-10cb-4822-c6b6-2b130c8a52cc"
      },
      "execution_count": null,
      "outputs": [
        {
          "output_type": "stream",
          "name": "stdout",
          "text": [
            "+----------+-----+\n",
            "|    region|count|\n",
            "+----------+-----+\n",
            "|   Central|    3|\n",
            "|        -1|   13|\n",
            "|North East|   25|\n",
            "|      East|   31|\n",
            "|     North|   49|\n",
            "|     South|   59|\n",
            "|      West|   74|\n",
            "+----------+-----+\n",
            "\n"
          ]
        }
      ]
    },
    {
      "cell_type": "code",
      "source": [
        "#List unique flavour profile and course\n",
        "from pyspark.sql.functions import col\n",
        "distinct_course=food.select(\"course\").distinct()\n",
        "distinct_flavor=food.select(\"flavor_profile\").distinct()\n",
        "distinct_course.show()\n",
        "distinct_flavor.show()"
      ],
      "metadata": {
        "colab": {
          "base_uri": "https://localhost:8080/"
        },
        "id": "Z7PB5lKV5GR8",
        "outputId": "c56857fa-b264-4f09-e134-29995d8faf05"
      },
      "execution_count": null,
      "outputs": [
        {
          "output_type": "stream",
          "name": "stdout",
          "text": [
            "+-----------+\n",
            "|     course|\n",
            "+-----------+\n",
            "|    starter|\n",
            "|    dessert|\n",
            "|      snack|\n",
            "|main course|\n",
            "+-----------+\n",
            "\n",
            "+--------------+\n",
            "|flavor_profile|\n",
            "+--------------+\n",
            "|            -1|\n",
            "|         spicy|\n",
            "|         sweet|\n",
            "|          sour|\n",
            "|        bitter|\n",
            "+--------------+\n",
            "\n"
          ]
        }
      ]
    },
    {
      "cell_type": "code",
      "source": [
        "#Which state has more main course\n",
        "max_main_course=food.groupBy(\"state\").count().orderBy(\"count\",ascending=False).first()[0]\n",
        "max_main_course"
      ],
      "metadata": {
        "id": "XTGUM-bx5hPs",
        "colab": {
          "base_uri": "https://localhost:8080/",
          "height": 35
        },
        "outputId": "031762b1-084d-404b-cfbd-2e3a219cb62c"
      },
      "execution_count": null,
      "outputs": [
        {
          "output_type": "execute_result",
          "data": {
            "text/plain": [
              "'Gujarat'"
            ],
            "application/vnd.google.colaboratory.intrinsic+json": {
              "type": "string"
            }
          },
          "metadata": {},
          "execution_count": 30
        }
      ]
    },
    {
      "cell_type": "code",
      "source": [
        "#Give % of dishes from each region\n",
        "from pyspark.sql.functions import udf\n",
        "from pyspark.sql.types import IntegerType\n",
        "count_dishes_per_region=food.groupBy(\"region\").count()\n",
        "total_dishes=food.count()\n",
        "def percentage(data,total_dishes):\n",
        "  return (int(data)/int(total_dishes))*100\n",
        "udf1=udf(percentage,IntegerType())\n",
        "count_dishes_per_region.withColumn(\"Percentage\",col(\"count\")/total_dishes*100).orderBy(\"Percentage\",ascending=False).drop(\"count\").show()"
      ],
      "metadata": {
        "colab": {
          "base_uri": "https://localhost:8080/"
        },
        "id": "PlIfGf1gEkur",
        "outputId": "c8c8c4c5-02d0-4e89-c854-8d02eb66243c"
      },
      "execution_count": null,
      "outputs": [
        {
          "output_type": "stream",
          "name": "stdout",
          "text": [
            "+----------+------------------+\n",
            "|    region|        Percentage|\n",
            "+----------+------------------+\n",
            "|      West|29.133858267716533|\n",
            "|     South|23.228346456692915|\n",
            "|     North|19.291338582677163|\n",
            "|      East|12.204724409448819|\n",
            "|North East|  9.84251968503937|\n",
            "|        -1| 5.118110236220472|\n",
            "|   Central|1.1811023622047243|\n",
            "+----------+------------------+\n",
            "\n"
          ]
        }
      ]
    },
    {
      "cell_type": "code",
      "source": [
        "#List state which has more dishes from each region\n",
        "from pyspark.sql.window import Window\n",
        "from pyspark.sql.functions import col,rank\n",
        "g1=food.groupBy(\"state\",\"region\").count()\n",
        "window_spec=Window.partitionBy(\"region\").orderBy(col(\"count\").desc())\n",
        "ranked=g1.withColumn(\"Rank\",rank().over(window_spec))\n",
        "ranked2=ranked.filter(col(\"rank\")==1)\n",
        "ranked2.drop(\"rank\").show()\n"
      ],
      "metadata": {
        "colab": {
          "base_uri": "https://localhost:8080/"
        },
        "id": "xFdQCVOAdqRx",
        "outputId": "2f50d6b5-c82c-4852-f759-affc080ee7dc"
      },
      "execution_count": null,
      "outputs": [
        {
          "output_type": "stream",
          "name": "stdout",
          "text": [
            "+--------------+----------+-----+\n",
            "|         state|    region|count|\n",
            "+--------------+----------+-----+\n",
            "|            -1|        -1|   13|\n",
            "|Madhya Pradesh|   Central|    2|\n",
            "|   West Bengal|      East|   24|\n",
            "|        Punjab|     North|   32|\n",
            "|         Assam|North East|   21|\n",
            "|    Tamil Nadu|     South|   20|\n",
            "|       Gujarat|      West|   35|\n",
            "+--------------+----------+-----+\n",
            "\n"
          ]
        }
      ]
    },
    {
      "cell_type": "code",
      "source": [],
      "metadata": {
        "id": "FGTCF7P3eXxm"
      },
      "execution_count": null,
      "outputs": []
    }
  ]
}