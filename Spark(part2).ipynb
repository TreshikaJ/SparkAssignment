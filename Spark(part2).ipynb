{
  "nbformat": 4,
  "nbformat_minor": 0,
  "metadata": {
    "colab": {
      "provenance": []
    },
    "kernelspec": {
      "name": "python3",
      "display_name": "Python 3"
    },
    "language_info": {
      "name": "python"
    }
  },
  "cells": [
    {
      "cell_type": "code",
      "source": [
        "!pip install pyspark"
      ],
      "metadata": {
        "colab": {
          "base_uri": "https://localhost:8080/"
        },
        "id": "cXIAWV1dKPUk",
        "outputId": "c73cbeff-7563-4491-af50-27f0b979ebc1"
      },
      "execution_count": 3,
      "outputs": [
        {
          "output_type": "stream",
          "name": "stdout",
          "text": [
            "Collecting pyspark\n",
            "  Downloading pyspark-3.5.0.tar.gz (316.9 MB)\n",
            "\u001b[2K     \u001b[90m━━━━━━━━━━━━━━━━━━━━━━━━━━━━━━━━━━━━━━━━\u001b[0m \u001b[32m316.9/316.9 MB\u001b[0m \u001b[31m4.5 MB/s\u001b[0m eta \u001b[36m0:00:00\u001b[0m\n",
            "\u001b[?25h  Preparing metadata (setup.py) ... \u001b[?25l\u001b[?25hdone\n",
            "Requirement already satisfied: py4j==0.10.9.7 in /usr/local/lib/python3.10/dist-packages (from pyspark) (0.10.9.7)\n",
            "Building wheels for collected packages: pyspark\n",
            "  Building wheel for pyspark (setup.py) ... \u001b[?25l\u001b[?25hdone\n",
            "  Created wheel for pyspark: filename=pyspark-3.5.0-py2.py3-none-any.whl size=317425344 sha256=0abd80845518a9882ad546256c64960091e2f3fb27545b3ef540b2d1ea477372\n",
            "  Stored in directory: /root/.cache/pip/wheels/41/4e/10/c2cf2467f71c678cfc8a6b9ac9241e5e44a01940da8fbb17fc\n",
            "Successfully built pyspark\n",
            "Installing collected packages: pyspark\n",
            "Successfully installed pyspark-3.5.0\n"
          ]
        }
      ]
    },
    {
      "cell_type": "code",
      "source": [
        "import pyspark\n",
        "from pyspark.sql import SparkSession\n",
        "spark=SparkSession.builder.appName(\"Spark\").getOrCreate()"
      ],
      "metadata": {
        "id": "2Mw6Flx5KUVF"
      },
      "execution_count": 4,
      "outputs": []
    },
    {
      "cell_type": "code",
      "source": [
        "student_rdd=spark.sparkContext.textFile(\"/content/student.txt\")\n",
        "student_rdd.collect()\n",
        "# compute number of students from each Institute\n",
        "student_rdd.map(lambda d:((d.split(\",\")[1],1))).reduceByKey(lambda x,y:x+y).collect()"
      ],
      "metadata": {
        "colab": {
          "base_uri": "https://localhost:8080/"
        },
        "id": "QrWDdFRQVgOw",
        "outputId": "cd0c9b51-2862-49cd-d23e-fc667abb2d2a"
      },
      "execution_count": 6,
      "outputs": [
        {
          "output_type": "execute_result",
          "data": {
            "text/plain": [
              "[('MSIS', 3), ('MIT', 4)]"
            ]
          },
          "metadata": {},
          "execution_count": 6
        }
      ]
    },
    {
      "cell_type": "code",
      "source": [
        "#no of students enrolled in any program\n",
        "student_rdd.map(lambda d:((d.split(\",\")[2],1))).reduceByKey(lambda x,y:x+y).collect()"
      ],
      "metadata": {
        "colab": {
          "base_uri": "https://localhost:8080/"
        },
        "id": "7HoAKjCIVrWm",
        "outputId": "4e7bb205-65f4-4d73-df24-107312023ea3"
      },
      "execution_count": 7,
      "outputs": [
        {
          "output_type": "execute_result",
          "data": {
            "text/plain": [
              "[('Cybersecurity', 1), ('Civil', 1), ('BigData', 2), ('VLSI', 2), ('CLoud', 1)]"
            ]
          },
          "metadata": {},
          "execution_count": 7
        }
      ]
    },
    {
      "cell_type": "code",
      "source": [
        "#No of boy and girl student\n",
        "student_rdd.map(lambda d:(d.split(\",\")[3],1)).reduceByKey(lambda x,y:x+y).collect()"
      ],
      "metadata": {
        "colab": {
          "base_uri": "https://localhost:8080/"
        },
        "id": "ydDl1ZYoXBNa",
        "outputId": "af77f317-1f7d-4150-aed2-2c7162382380"
      },
      "execution_count": 8,
      "outputs": [
        {
          "output_type": "execute_result",
          "data": {
            "text/plain": [
              "[('Female', 4), ('Male', 3)]"
            ]
          },
          "metadata": {},
          "execution_count": 8
        }
      ]
    },
    {
      "cell_type": "code",
      "source": [
        "#Number of ‘boy’ and ‘girl’ students from selected Institute.\n",
        "st=student_rdd.flatMap(lambda d:d.split(\"\\n\"))\n",
        "st.filter(lambda institute:\"MIT\" in institute).map(lambda d:(d.split(\",\")[3],1)).reduceByKey(lambda x,y:x+y).collect()\n"
      ],
      "metadata": {
        "colab": {
          "base_uri": "https://localhost:8080/"
        },
        "id": "PQ9F8IbzXd3f",
        "outputId": "a9623190-4fa4-478d-ff9c-8fb0adfdbf4a"
      },
      "execution_count": 9,
      "outputs": [
        {
          "output_type": "execute_result",
          "data": {
            "text/plain": [
              "[('Male', 3), ('Female', 1)]"
            ]
          },
          "metadata": {},
          "execution_count": 9
        }
      ]
    },
    {
      "cell_type": "code",
      "source": [
        "city_rdd=spark.sparkContext.textFile(\"/content/temp.txt\")\n",
        "city_rdd.collect()\n",
        "# city=city_rdd.flatMap(lambda d:d.split(\"\\n\"))"
      ],
      "metadata": {
        "colab": {
          "base_uri": "https://localhost:8080/"
        },
        "id": "CrVZpi_ycmHo",
        "outputId": "42ac2441-5324-4631-98e9-3eb0220219fb"
      },
      "execution_count": 10,
      "outputs": [
        {
          "output_type": "execute_result",
          "data": {
            "text/plain": [
              "['23-01-2023,23.3,Udupi,India,21,55',\n",
              " '23-02-2023,25.3,Byndoor,India,25,34',\n",
              " '23-03-2023,43.3,Karkala,India,45,58',\n",
              " '23-04-2023,27.3,Udupi,India,21,55',\n",
              " '23-01-2023,23.9,Byndoor,India,21,54',\n",
              " '23-01-2023,13.9,Bangalore,India,22,54',\n",
              " '23-03-2023,34.9,Bangalore,India,22,54',\n",
              " '22-02-2023,14.9,Bangalore,India,22,54',\n",
              " '23-03-2023,24.9,Bangalore,India,22,54']"
            ]
          },
          "metadata": {},
          "execution_count": 10
        }
      ]
    },
    {
      "cell_type": "code",
      "source": [
        "#Find maximum and minimum temperature of all cities from the given dataset\n",
        "city_temp=city_rdd.map(lambda fields:(fields.split(\",\")[2],float(fields.split(\",\")[1])))\n",
        "max=city_temp.reduceByKey(lambda x, y: x if x > y else y).collect()\n",
        "min=city_temp.reduceByKey(lambda x, y: x if x < y else y).collect()\n",
        "print(min)\n",
        "print(max)\n",
        "\n",
        "#city_rdd.map(lambda d:(d.split(\",\")[2],d.split(\",\")[1])).reduceByKey(lambda x,y:max(x,y)).collect()\n"
      ],
      "metadata": {
        "colab": {
          "base_uri": "https://localhost:8080/"
        },
        "id": "5KsUvH53hUgB",
        "outputId": "05088041-cc32-47bc-d1e2-a06e13c76377"
      },
      "execution_count": 12,
      "outputs": [
        {
          "output_type": "stream",
          "name": "stdout",
          "text": [
            "[('Udupi', 23.3), ('Byndoor', 23.9), ('Karkala', 43.3), ('Bangalore', 13.9)]\n",
            "[('Udupi', 27.3), ('Byndoor', 25.3), ('Karkala', 43.3), ('Bangalore', 34.9)]\n"
          ]
        }
      ]
    },
    {
      "cell_type": "code",
      "source": [
        "#Count number of data point for each city.\n",
        "city_rdd.map(lambda d:(d.split(\",\")[2],1)).reduceByKey(lambda x,y:x+y).collect()"
      ],
      "metadata": {
        "colab": {
          "base_uri": "https://localhost:8080/"
        },
        "id": "08Xo6koSYjF6",
        "outputId": "627ea5cc-3f7f-4938-ad8e-f98fd75a1383"
      },
      "execution_count": 13,
      "outputs": [
        {
          "output_type": "execute_result",
          "data": {
            "text/plain": [
              "[('Udupi', 2), ('Byndoor', 2), ('Karkala', 1), ('Bangalore', 4)]"
            ]
          },
          "metadata": {},
          "execution_count": 13
        }
      ]
    },
    {
      "cell_type": "code",
      "source": [
        "#Find the maximum and minimum temperature for city Bangalorefrom the given dataset.\n",
        "temp=city_rdd.flatMap(lambda d:d.split(\"\\n\"))\n",
        "max=temp.filter(lambda city:\"Bangalore\" in city).map(lambda d:(d.split(\",\")[1])).max()\n",
        "min=temp.filter(lambda city:\"Bangalore\" in city).map(lambda d:(d.split(\",\")[1])).min()\n",
        "print(min)\n",
        "print(max)\n"
      ],
      "metadata": {
        "colab": {
          "base_uri": "https://localhost:8080/"
        },
        "id": "HZjVU32vdckK",
        "outputId": "bff2356f-a157-4a6e-ff7a-86f56e814f17"
      },
      "execution_count": 16,
      "outputs": [
        {
          "output_type": "stream",
          "name": "stdout",
          "text": [
            "13.9\n",
            "34.9\n"
          ]
        }
      ]
    },
    {
      "cell_type": "code",
      "source": [
        "#Find the maximum and minimum temperature for any given city from the given dataset. City name should be passed through command line argument.\n",
        "c=input(\"Enter a city:\")\n",
        "temp=city_rdd.flatMap(lambda d:d.split(\"\\n\"))\n",
        "max=temp.filter(lambda city:c in city).map(lambda d:(d.split(\",\")[1])).max()\n",
        "min=temp.filter(lambda city:c in city).map(lambda d:(d.split(\",\")[1])).min()\n",
        "print(min)\n",
        "print(max)\n"
      ],
      "metadata": {
        "colab": {
          "base_uri": "https://localhost:8080/"
        },
        "id": "qtjKMbqmenNe",
        "outputId": "379658a8-bf0c-4c25-ffa6-697c180a83fd"
      },
      "execution_count": 15,
      "outputs": [
        {
          "output_type": "stream",
          "name": "stdout",
          "text": [
            "Enter a city:Bangalore\n",
            "13.9\n",
            "34.9\n"
          ]
        }
      ]
    },
    {
      "cell_type": "code",
      "source": [
        "#Count unique number of Bank ID\n",
        "bank_rdd=spark.sparkContext.textFile(\"/content/Bank.txt\")\n",
        "bank=bank_rdd.flatMap(lambda d:d.split(\"\\n\"))\n",
        "bank_id=bank.map(lambda d:(d.split(\"\\t\")[0])).distinct()\n",
        "bank_id.collect()"
      ],
      "metadata": {
        "colab": {
          "base_uri": "https://localhost:8080/"
        },
        "id": "SRwqgnKuhAAt",
        "outputId": "b0e0a4d3-18fc-49bc-f15c-ddff4ddcad14"
      },
      "execution_count": 18,
      "outputs": [
        {
          "output_type": "execute_result",
          "data": {
            "text/plain": [
              "['CAN00123', 'SBI00042', 'ICI00072']"
            ]
          },
          "metadata": {},
          "execution_count": 18
        }
      ]
    },
    {
      "cell_type": "code",
      "source": [
        "#Count unique number of customers\n",
        "\n",
        "customer = bank.map(lambda d:(d.split(\"\\t\")[1])).distinct()\n",
        "customer.count()\n"
      ],
      "metadata": {
        "colab": {
          "base_uri": "https://localhost:8080/"
        },
        "id": "qEN6xWKrk-eV",
        "outputId": "8464f482-2dbe-4319-e1a9-535d5e75c54a"
      },
      "execution_count": 19,
      "outputs": [
        {
          "output_type": "execute_result",
          "data": {
            "text/plain": [
              "15"
            ]
          },
          "metadata": {},
          "execution_count": 19
        }
      ]
    },
    {
      "cell_type": "code",
      "source": [],
      "metadata": {
        "id": "hB-GI2qkZtpG"
      },
      "execution_count": null,
      "outputs": []
    },
    {
      "cell_type": "code",
      "source": [],
      "metadata": {
        "id": "Y087wuQEZ6M-"
      },
      "execution_count": null,
      "outputs": []
    },
    {
      "cell_type": "code",
      "source": [
        "#Number of transactions for given Account Number\n",
        "bank.map(lambda d:(d.split('\\t')[1],1)).reduceByKey(lambda a,b:a+b).collect()"
      ],
      "metadata": {
        "colab": {
          "base_uri": "https://localhost:8080/"
        },
        "id": "NLS0uxujmaOV",
        "outputId": "0db8c1ba-4972-49c4-ba55-b8fae4a8dcf2"
      },
      "execution_count": null,
      "outputs": [
        {
          "output_type": "execute_result",
          "data": {
            "text/plain": [
              "[('123876122', 6),\n",
              " ('123872822', 2),\n",
              " ('123876171', 2),\n",
              " ('123876142', 4),\n",
              " ('123823122', 1),\n",
              " ('123809822', 1),\n",
              " ('123376422', 1),\n",
              " ('123802671', 1),\n",
              " ('123823822', 2),\n",
              " ('123872322', 3),\n",
              " ('123872829', 6),\n",
              " ('720127541', 2),\n",
              " ('123456789', 5),\n",
              " ('123822322', 1),\n",
              " ('123830822', 1)]"
            ]
          },
          "metadata": {},
          "execution_count": 21
        }
      ]
    },
    {
      "cell_type": "code",
      "source": [
        "#Count unique number of customer per bank id\n",
        "bank.map(lambda d:(d.split(\"\\t\")[0],d.split(\"\\t\")[1])).distinct().map(lambda d:(str(d).split(',')[0],1)).reduceByKey(lambda a,b:a+b).collect()\n"
      ],
      "metadata": {
        "colab": {
          "base_uri": "https://localhost:8080/"
        },
        "id": "S2mhqIE9qJyH",
        "outputId": "93f799b8-2496-415d-8791-7376b65719e5"
      },
      "execution_count": 20,
      "outputs": [
        {
          "output_type": "execute_result",
          "data": {
            "text/plain": [
              "[(\"('SBI00042'\", 7), (\"('ICI00072'\", 6), (\"('CAN00123'\", 6)]"
            ]
          },
          "metadata": {},
          "execution_count": 20
        }
      ]
    },
    {
      "cell_type": "code",
      "source": [
        "#Number of transactions for given Account Number\n",
        "bank.map(lambda d:(d.split('\\t')[1],1)).reduceByKey(lambda a,b:a+b).collect()\n"
      ],
      "metadata": {
        "colab": {
          "base_uri": "https://localhost:8080/"
        },
        "id": "T3023RIWa2jf",
        "outputId": "e092fe37-5695-44d4-cdbe-49db9e25abdf"
      },
      "execution_count": null,
      "outputs": [
        {
          "output_type": "execute_result",
          "data": {
            "text/plain": [
              "[('123876122', 6),\n",
              " ('123872822', 2),\n",
              " ('123876171', 2),\n",
              " ('123876142', 4),\n",
              " ('123823122', 1),\n",
              " ('123809822', 1),\n",
              " ('123376422', 1),\n",
              " ('123802671', 1),\n",
              " ('123823822', 2),\n",
              " ('123872322', 3),\n",
              " ('123872829', 6),\n",
              " ('720127541', 2),\n",
              " ('123456789', 5),\n",
              " ('123822322', 1),\n",
              " ('123830822', 1)]"
            ]
          },
          "metadata": {},
          "execution_count": 17
        }
      ]
    },
    {
      "cell_type": "code",
      "source": [
        "#Number of credit transactions for given Account Number in a given year\n",
        "\n",
        "def checkCredit(d):\n",
        "  if 'C' in d:\n",
        "    return True\n",
        "bank.map(lambda d:(d.split('\\t')[1]+d.split('\\t')[3])).filter(lambda d:checkCredit(d)).map(lambda d:(d.split('C')[0],1)).reduceByKey(lambda a,b:a+b).collect()"
      ],
      "metadata": {
        "colab": {
          "base_uri": "https://localhost:8080/"
        },
        "id": "lpQy73McchRH",
        "outputId": "248741ac-65b9-4a1f-b2e9-30e5ed5e0a9d"
      },
      "execution_count": 21,
      "outputs": [
        {
          "output_type": "execute_result",
          "data": {
            "text/plain": [
              "[('123876122', 2),\n",
              " ('123872822', 2),\n",
              " ('123823122', 1),\n",
              " ('123809822', 1),\n",
              " ('123823822', 2),\n",
              " ('123872322', 3),\n",
              " ('123872829', 6),\n",
              " ('720127541', 2),\n",
              " ('123456789', 4),\n",
              " ('123822322', 1),\n",
              " ('123830822', 1)]"
            ]
          },
          "metadata": {},
          "execution_count": 21
        }
      ]
    },
    {
      "cell_type": "code",
      "source": [],
      "metadata": {
        "id": "AQB9VK7Xda3N"
      },
      "execution_count": null,
      "outputs": []
    }
  ]
}