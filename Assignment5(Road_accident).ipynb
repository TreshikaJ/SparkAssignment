{
  "nbformat": 4,
  "nbformat_minor": 0,
  "metadata": {
    "colab": {
      "provenance": []
    },
    "kernelspec": {
      "name": "python3",
      "display_name": "Python 3"
    },
    "language_info": {
      "name": "python"
    }
  },
  "cells": [
    {
      "cell_type": "code",
      "execution_count": 119,
      "metadata": {
        "colab": {
          "base_uri": "https://localhost:8080/"
        },
        "id": "Ds2FDd8_vVGz",
        "outputId": "139e93a2-1911-40c3-e87c-f1ee7f8d10aa"
      },
      "outputs": [
        {
          "output_type": "stream",
          "name": "stdout",
          "text": [
            "Requirement already satisfied: pyspark in /usr/local/lib/python3.10/dist-packages (3.5.0)\n",
            "Requirement already satisfied: py4j==0.10.9.7 in /usr/local/lib/python3.10/dist-packages (from pyspark) (0.10.9.7)\n"
          ]
        }
      ],
      "source": [
        "!pip install pyspark"
      ]
    },
    {
      "cell_type": "code",
      "source": [
        "import pyspark\n",
        "from pyspark.sql import SparkSession\n",
        "spark=SparkSession.builder.appName(\"spark\").getOrCreate()\n"
      ],
      "metadata": {
        "id": "wGeUeyB4vcQY"
      },
      "execution_count": 167,
      "outputs": []
    },
    {
      "cell_type": "code",
      "source": [
        "\n",
        "accidents=spark.read.csv(\"/content/Road_accidents.csv\",header=True)\n",
        "accidents_time=spark.read.csv(\"/content/Road_accidents_time.csv\",header=True).toDF(\"STATE/UT\",\"YEAR\",\"O-3(n)\",\"3-6(n)\",\"6-9(d)\",\"9-12(d)\",\"12-15(d)\",\"15-18(d)\",\"18-21(n)\",\"21-24(n)\")\n",
        "accidents.show()\n",
        "accidents_time.show()"
      ],
      "metadata": {
        "colab": {
          "base_uri": "https://localhost:8080/"
        },
        "id": "7b_GZ9l6323e",
        "outputId": "ce03d718-8770-4081-d5ab-a55364d10544"
      },
      "execution_count": 186,
      "outputs": [
        {
          "output_type": "stream",
          "name": "stdout",
          "text": [
            "+--------------+----+-------+--------+-----+-----+----+----+----+------+---------+-------+--------+--------+\n",
            "|      STATE/UT|YEAR|JANUARY|FEBRUARY|MARCH|APRIL| MAY|JUNE|JULY|AUGUST|SEPTEMBER|OCTOBER|NOVEMBER|DECEMBER|\n",
            "+--------------+----+-------+--------+-----+-----+----+----+----+------+---------+-------+--------+--------+\n",
            "| A & N Islands|2001|      8|      23|   15|   15|  14|  19|  14|    19|        7|     12|      13|      22|\n",
            "| A & N Islands|2002|     12|      10|   14|   16|  10|   7|  16|    11|       23|     21|      11|      17|\n",
            "| A & N Islands|2003|     19|      13|   15|   13|  13|  12|   8|    16|       17|     25|      14|      15|\n",
            "| A & N Islands|2004|     21|      14|   22|   17|  13|  18|  16|    19|       16|     20|      15|      24|\n",
            "| A & N Islands|2005|     19|      21|   22|   17|  13|  19|  21|    14|       15|     19|      10|      16|\n",
            "| A & N Islands|2006|     21|      13|    4|   22|   9|  14|  12|    14|        8|     14|       6|      18|\n",
            "| A & N Islands|2007|     17|      16|   12|   22|  12|  14|   8|    10|       11|      7|      11|      12|\n",
            "| A & N Islands|2008|     17|      22|   15|   16|  15|  17|  13|    11|       13|     17|      11|      24|\n",
            "| A & N Islands|2009|     16|      23|   23|   21|  21|  19|  24|    25|       31|     22|      20|      26|\n",
            "| A & N Islands|2010|     16|      30|   28|   15|  29|  24|  22|    18|       25|     30|      27|      21|\n",
            "| A & N Islands|2011|     24|      10|   19|   24|  13|  28|  17|    18|       25|     17|      18|      22|\n",
            "| A & N Islands|2012|     25|      15|   24|   24|  18|  16|  17|    18|       18|     25|      17|      19|\n",
            "| A & N Islands|2013|     24|      23|   16|   15|  13|  16|  14|    25|       14|     15|      14|      11|\n",
            "| A & N Islands|2014|     25|      13|   19|   19|  18|  15|  15|    16|       15|     23|      18|      22|\n",
            "|Andhra Pradesh|2001|   2204|    2437| 2405| 2351|2550|2284|2025|  2077|     2070|   2276|    2122|    2387|\n",
            "|Andhra Pradesh|2002|   2492|    2453| 2835| 2786|3195|2880|2645|  2607|     2555|   2624|    2646|    2859|\n",
            "|Andhra Pradesh|2003|   2783|    2569| 2870| 2635|3265|2924|2657|  2934|     2767|   2881|    3037|    3215|\n",
            "|Andhra Pradesh|2004|   3019|    3131| 3211| 3100|3257|2942|2827|  3079|     2972|   3041|    3129|    3370|\n",
            "|Andhra Pradesh|2005|   3189|    3193| 3182| 3056|3612|3247|2907|  3028|     2742|   2928|    2975|    3230|\n",
            "|Andhra Pradesh|2006|   3568|    3224| 3496| 3634|3962|3400|3334|  3311|     3232|   3306|    3268|    3588|\n",
            "+--------------+----+-------+--------+-----+-----+----+----+----+------+---------+-------+--------+--------+\n",
            "only showing top 20 rows\n",
            "\n",
            "+--------------+----+------+------+------+-------+--------+--------+--------+--------+\n",
            "|      STATE/UT|YEAR|O-3(n)|3-6(n)|6-9(d)|9-12(d)|12-15(d)|15-18(d)|18-21(n)|21-24(n)|\n",
            "+--------------+----+------+------+------+-------+--------+--------+--------+--------+\n",
            "| A & N Islands|2001|     2|     6|    29|     40|      39|      40|      18|       7|\n",
            "| A & N Islands|2002|     2|     6|    22|     41|      33|      33|      23|       8|\n",
            "| A & N Islands|2003|     2|     8|    31|     35|      28|      36|      25|      15|\n",
            "| A & N Islands|2004|     2|     5|    29|     42|      43|      43|      37|      14|\n",
            "| A & N Islands|2005|     0|     8|    27|     28|      38|      42|      50|      13|\n",
            "| A & N Islands|2006|     1|     3|    17|     33|      33|      23|      38|       7|\n",
            "| A & N Islands|2007|     2|     5|    20|     30|      30|      27|      31|       7|\n",
            "| A & N Islands|2008|     3|     7|    33|     24|      40|      31|      40|      13|\n",
            "| A & N Islands|2009|     2|     6|    35|     41|      64|      54|      50|      19|\n",
            "| A & N Islands|2010|     2|    10|    36|     45|      64|      57|      53|      18|\n",
            "| A & N Islands|2011|     4|     3|    36|     27|      46|      50|      51|      18|\n",
            "| A & N Islands|2012|     4|     6|    26|     29|      54|      45|      58|      14|\n",
            "| A & N Islands|2013|     2|     3|    22|     31|      40|      40|      37|      25|\n",
            "| A & N Islands|2014|     4|     6|    25|     28|      55|      36|      41|      23|\n",
            "|Andhra Pradesh|2001|  2239|  3265|  3198|   3729|    3604|    3792|    4098|    3263|\n",
            "|Andhra Pradesh|2002|  2931|  3857|  3671|   4255|    4153|    4778|    4844|    4088|\n",
            "|Andhra Pradesh|2003|  3158|  4865|  3749|   4319|    4266|    4853|    5218|    4109|\n",
            "|Andhra Pradesh|2004|  3191|  4770|  4598|   5030|    4033|    4971|    6031|    4454|\n",
            "|Andhra Pradesh|2005|  3826|  6011|  5002|   4137|    4261|    4524|    5096|    4432|\n",
            "|Andhra Pradesh|2006|  3635|  5525|  4270|   5108|    4918|    6101|    6757|    5009|\n",
            "+--------------+----+------+------+------+-------+--------+--------+--------+--------+\n",
            "only showing top 20 rows\n",
            "\n"
          ]
        }
      ]
    },
    {
      "cell_type": "code",
      "source": [
        "#1.Add column 'Total', giving sum of accidents in each month\n",
        "from pyspark.sql.functions import *\n",
        "list=[month for month in accidents.columns[2:]]\n",
        "exp='+'.join(list)\n",
        "accidents = accidents.withColumn(\"Total\", expr(exp))\n",
        "accidents.show()\n"
      ],
      "metadata": {
        "colab": {
          "base_uri": "https://localhost:8080/"
        },
        "id": "urIDRmXn3khe",
        "outputId": "b40f604d-2b22-48df-9142-1e0689c419e1"
      },
      "execution_count": 169,
      "outputs": [
        {
          "output_type": "stream",
          "name": "stdout",
          "text": [
            "+--------------+----+-------+--------+-----+-----+----+----+----+------+---------+-------+--------+--------+-------+\n",
            "|      STATE/UT|YEAR|JANUARY|FEBRUARY|MARCH|APRIL| MAY|JUNE|JULY|AUGUST|SEPTEMBER|OCTOBER|NOVEMBER|DECEMBER|  Total|\n",
            "+--------------+----+-------+--------+-----+-----+----+----+----+------+---------+-------+--------+--------+-------+\n",
            "| A & N Islands|2001|      8|      23|   15|   15|  14|  19|  14|    19|        7|     12|      13|      22|  181.0|\n",
            "| A & N Islands|2002|     12|      10|   14|   16|  10|   7|  16|    11|       23|     21|      11|      17|  168.0|\n",
            "| A & N Islands|2003|     19|      13|   15|   13|  13|  12|   8|    16|       17|     25|      14|      15|  180.0|\n",
            "| A & N Islands|2004|     21|      14|   22|   17|  13|  18|  16|    19|       16|     20|      15|      24|  215.0|\n",
            "| A & N Islands|2005|     19|      21|   22|   17|  13|  19|  21|    14|       15|     19|      10|      16|  206.0|\n",
            "| A & N Islands|2006|     21|      13|    4|   22|   9|  14|  12|    14|        8|     14|       6|      18|  155.0|\n",
            "| A & N Islands|2007|     17|      16|   12|   22|  12|  14|   8|    10|       11|      7|      11|      12|  152.0|\n",
            "| A & N Islands|2008|     17|      22|   15|   16|  15|  17|  13|    11|       13|     17|      11|      24|  191.0|\n",
            "| A & N Islands|2009|     16|      23|   23|   21|  21|  19|  24|    25|       31|     22|      20|      26|  271.0|\n",
            "| A & N Islands|2010|     16|      30|   28|   15|  29|  24|  22|    18|       25|     30|      27|      21|  285.0|\n",
            "| A & N Islands|2011|     24|      10|   19|   24|  13|  28|  17|    18|       25|     17|      18|      22|  235.0|\n",
            "| A & N Islands|2012|     25|      15|   24|   24|  18|  16|  17|    18|       18|     25|      17|      19|  236.0|\n",
            "| A & N Islands|2013|     24|      23|   16|   15|  13|  16|  14|    25|       14|     15|      14|      11|  200.0|\n",
            "| A & N Islands|2014|     25|      13|   19|   19|  18|  15|  15|    16|       15|     23|      18|      22|  218.0|\n",
            "|Andhra Pradesh|2001|   2204|    2437| 2405| 2351|2550|2284|2025|  2077|     2070|   2276|    2122|    2387|27188.0|\n",
            "|Andhra Pradesh|2002|   2492|    2453| 2835| 2786|3195|2880|2645|  2607|     2555|   2624|    2646|    2859|32577.0|\n",
            "|Andhra Pradesh|2003|   2783|    2569| 2870| 2635|3265|2924|2657|  2934|     2767|   2881|    3037|    3215|34537.0|\n",
            "|Andhra Pradesh|2004|   3019|    3131| 3211| 3100|3257|2942|2827|  3079|     2972|   3041|    3129|    3370|37078.0|\n",
            "|Andhra Pradesh|2005|   3189|    3193| 3182| 3056|3612|3247|2907|  3028|     2742|   2928|    2975|    3230|37289.0|\n",
            "|Andhra Pradesh|2006|   3568|    3224| 3496| 3634|3962|3400|3334|  3311|     3232|   3306|    3268|    3588|41323.0|\n",
            "+--------------+----+-------+--------+-----+-----+----+----+----+------+---------+-------+--------+--------+-------+\n",
            "only showing top 20 rows\n",
            "\n"
          ]
        }
      ]
    },
    {
      "cell_type": "code",
      "source": [
        "#2.Which state has highest number of accidents in year 2013\n",
        "highest_no_of_accidents=accidents.select(\"YEAR\",\"State/UT\",\"Total\").filter(col(\"YEAR\")==2013).orderBy(\"Total\",ascending=False).first()[1]\n",
        "highest_no_of_accidents"
      ],
      "metadata": {
        "colab": {
          "base_uri": "https://localhost:8080/",
          "height": 35
        },
        "id": "SkLykClS6PTi",
        "outputId": "ced386c2-0389-4646-b06a-b048ff8bdc4b"
      },
      "execution_count": 170,
      "outputs": [
        {
          "output_type": "execute_result",
          "data": {
            "text/plain": [
              "'Tamil Nadu'"
            ],
            "application/vnd.google.colaboratory.intrinsic+json": {
              "type": "string"
            }
          },
          "metadata": {},
          "execution_count": 170
        }
      ]
    },
    {
      "cell_type": "code",
      "source": [
        "#3.Average monthly accidents for each state\n",
        "monthly_accidents=accidents.groupBy(\"STATE/UT\").agg(avg(col(\"JANUARY\")).alias(\"AVG_JAN\"),\n",
        "                                                    avg(col(\"FEBRUARY\")).alias(\"AVG_FEB\"),\n",
        "                                                    avg(col(\"MARCH\")).alias(\"AVG_MAR\"),\n",
        "                                                    avg(col(\"APRIL\")).alias(\"AVG_APR\"),\n",
        "                                                    avg(col(\"MAY\")).alias(\"AVG_MAY\"),\n",
        "                                                    avg(col(\"JUNE\")).alias(\"AVG_JUNE\"),\n",
        "                                                    avg(col(\"JULY\")).alias(\"AVG_JUL\"),\n",
        "                                                    avg(col(\"AUGUST\")).alias(\"AVG_AUG\"),\n",
        "                                                    avg(col(\"SEPTEMBER\")).alias(\"AVG_SEP\"),\n",
        "                                                    avg(col(\"OCTOBER\")).alias(\"AVG_OCT\"),\n",
        "                                                    avg(col(\"NOVEMBER\")).alias(\"AVG_NOV\"),\n",
        "                                                    avg(col(\"DECEMBER\")).alias(\"AVG_DEC\"))\n",
        "\n",
        "\n",
        "monthly_accidents.show()\n"
      ],
      "metadata": {
        "colab": {
          "base_uri": "https://localhost:8080/"
        },
        "id": "4TTA3zve6oov",
        "outputId": "6dae52fd-753a-438a-cb1b-e766c17f851b"
      },
      "execution_count": 171,
      "outputs": [
        {
          "output_type": "stream",
          "name": "stdout",
          "text": [
            "+-----------------+------------------+-------------------+------------------+-------------------+------------------+------------------+-------------------+------------------+-------------------+-------------------+-------------------+------------------+\n",
            "|         STATE/UT|           AVG_JAN|            AVG_FEB|           AVG_MAR|            AVG_APR|           AVG_MAY|          AVG_JUNE|            AVG_JUL|           AVG_AUG|            AVG_SEP|            AVG_OCT|            AVG_NOV|           AVG_DEC|\n",
            "+-----------------+------------------+-------------------+------------------+-------------------+------------------+------------------+-------------------+------------------+-------------------+-------------------+-------------------+------------------+\n",
            "|         Nagaland| 5.071428571428571|  5.857142857142857| 5.142857142857143|  4.928571428571429|               4.0| 5.357142857142857|  5.071428571428571| 3.642857142857143| 3.0714285714285716|  5.214285714285714| 3.2857142857142856| 5.142857142857143|\n",
            "|        Karnataka|3573.6428571428573|             3407.5|3587.4285714285716|  3580.714285714286|            3929.5|3482.1428571428573| 3269.1428571428573|3236.1428571428573|             3222.0|  3349.285714285714| 3406.4285714285716| 3724.714285714286|\n",
            "|           Odisha| 751.2142857142857|  685.0714285714286| 745.6428571428571|              693.0|             773.5| 696.7857142857143|  641.9285714285714| 591.3571428571429|  591.7142857142857|  627.8571428571429|  678.6428571428571|             754.5|\n",
            "|           Kerala|3361.1428571428573|             3058.0|3182.0714285714284| 3087.4285714285716|            3227.0|2926.4285714285716| 2830.9285714285716|2959.3571428571427| 2967.6428571428573|             3007.5| 3087.3571428571427|3316.6428571428573|\n",
            "|       Tamil Nadu| 5259.214285714285|  5043.928571428572| 5428.071428571428|  5357.642857142857| 5608.142857142857|            5170.5|             4883.0| 5055.357142857143|  4985.428571428572|             4789.5|  4566.714285714285| 4714.857142857143|\n",
            "|     Chhattisgarh| 773.2857142857143|  717.1428571428571|             725.5|  738.3571428571429| 785.1428571428571| 703.3571428571429|  662.0714285714286| 615.7857142857143|  633.3571428571429|  702.2142857142857|  668.2857142857143|             691.0|\n",
            "|   Andhra Pradesh|            3318.0|  3189.785714285714|3409.4285714285716|             3349.5|3674.4285714285716|3326.4285714285716|  3026.714285714286|3139.0714285714284|  2965.714285714286|  3121.214285714286|  3143.785714285714|3394.5714285714284|\n",
            "|      Lakshadweep|0.2857142857142857|0.07142857142857142|               0.0|0.07142857142857142|               0.0|               0.0|0.07142857142857142|               0.0|0.14285714285714285|0.14285714285714285|0.21428571428571427|               0.0|\n",
            "|   Madhya Pradesh| 2450.214285714286|  2315.285714285714|2399.5714285714284| 2489.8571428571427|2785.5714285714284|2443.6428571428573|             2159.0|2088.5714285714284|             2095.5| 2367.8571428571427|             2321.5| 2226.785714285714|\n",
            "|           Punjab|268.07142857142856|              274.5|275.35714285714283| 276.07142857142856| 270.7857142857143|273.14285714285717|  270.2142857142857|263.07142857142856| 268.35714285714283| 295.85714285714283|              311.0| 296.7142857142857|\n",
            "|          Manipur|52.857142857142854|               49.5| 51.92857142857143| 49.142857142857146| 45.07142857142857| 42.07142857142857|               42.5|40.785714285714285|               48.0|               51.0|               51.0|56.857142857142854|\n",
            "|      Daman & Diu| 5.142857142857143| 3.4285714285714284| 3.857142857142857|  4.428571428571429| 3.357142857142857|3.4285714285714284|                4.0| 2.857142857142857| 2.9285714285714284| 3.4285714285714284|  4.571428571428571|               4.5|\n",
            "|  Jammu & Kashmir|401.64285714285717|              399.0| 465.2142857142857|              471.5|             531.0| 559.2857142857143|  573.2857142857143| 514.1428571428571|  492.7857142857143|  536.0714285714286|  511.7142857142857|460.07142857142856|\n",
            "|              Goa| 311.7857142857143| 272.35714285714283|             271.5|  264.7857142857143|             298.5|             235.0| 215.21428571428572|241.21428571428572| 245.28571428571428| 258.35714285714283| 280.85714285714283|             314.5|\n",
            "|          Mizoram| 8.214285714285714|  6.142857142857143| 8.785714285714286|  6.285714285714286| 6.928571428571429|               5.0|  7.285714285714286| 5.357142857142857|  5.357142857142857|  4.642857142857143|  6.857142857142857| 8.857142857142858|\n",
            "| Himachal Pradesh|184.57142857142858| 175.42857142857142|205.71428571428572| 210.35714285714286|236.35714285714286|245.14285714285714| 239.28571428571428|233.64285714285714| 230.21428571428572| 236.71428571428572| 235.85714285714286|217.07142857142858|\n",
            "|       Puducherry|118.28571428571429| 120.21428571428571|             136.5| 124.28571428571429|129.64285714285714|128.21428571428572| 130.92857142857142|132.71428571428572| 130.42857142857142| 133.28571428571428| 110.64285714285714|118.35714285714286|\n",
            "|          Haryana| 728.4285714285714|  733.2142857142857| 802.0714285714286|              777.0| 803.1428571428571| 771.3571428571429|              778.0| 770.8571428571429|              752.5|  836.0714285714286|  834.3571428571429| 835.9285714285714|\n",
            "|        Jharkhand| 263.7142857142857| 260.42857142857144| 289.2857142857143|  292.7142857142857|325.14285714285717|296.07142857142856| 265.14285714285717|249.92857142857142| 243.35714285714286|  265.7857142857143| 267.64285714285717|281.42857142857144|\n",
            "|Arunachal Pradesh|21.857142857142858| 21.285714285714285|21.071428571428573| 18.071428571428573|21.285714285714285|18.785714285714285|               17.0|17.642857142857142| 20.285714285714285| 20.714285714285715|               21.5|22.571428571428573|\n",
            "+-----------------+------------------+-------------------+------------------+-------------------+------------------+------------------+-------------------+------------------+-------------------+-------------------+-------------------+------------------+\n",
            "only showing top 20 rows\n",
            "\n"
          ]
        }
      ]
    },
    {
      "cell_type": "code",
      "source": [
        "#4. Which month has highest accidents\n",
        "highest_acc = accidents.select([col for col in accidents.columns if col!= 'STATE/UT' and col!='YEAR' and col!=\"Total\"])\n",
        "var  = {}\n",
        "for i in highest_acc.columns:\n",
        "  var[i] = highest_acc.agg({i:'sum'}).collect()[0][0]\n",
        "df4 = spark.createDataFrame(var.items(), [\"month\", \"value\"])\n",
        "maxValue = df4.agg({'value':'max'}).collect()[0][0]\n",
        "df4.select('month','value').where(col('value')==maxValue).show()\n"
      ],
      "metadata": {
        "colab": {
          "base_uri": "https://localhost:8080/"
        },
        "id": "gQ4tAAbEzFXu",
        "outputId": "1ff966a5-165e-47ff-ea04-e0b4c023af31"
      },
      "execution_count": 172,
      "outputs": [
        {
          "output_type": "stream",
          "name": "stdout",
          "text": [
            "+-----+--------+\n",
            "|month|   value|\n",
            "+-----+--------+\n",
            "|  MAY|521563.0|\n",
            "+-----+--------+\n",
            "\n"
          ]
        }
      ]
    },
    {
      "cell_type": "code",
      "source": [
        "#5. Which time slot (like 0-3, 3-6 etc) has more accidents? What about 'Karnataka' state?\n",
        "df5=accidents_time.drop(\"YEAR\")\n",
        "df5=df5.drop(\"STATE/UT\")\n",
        "df5.show()\n",
        "var  = {}\n",
        "for i in df5.columns:\n",
        "  var[i] = df5.agg({i:'sum'}).collect()[0][0]\n",
        "df4 = spark.createDataFrame(var.items(), [\"month\", \"value\"])\n",
        "maxValue = df4.agg({'value':'max'}).collect()[0][0]\n",
        "df4.select('month','value').where(col('value')==maxValue).show()\n"
      ],
      "metadata": {
        "colab": {
          "base_uri": "https://localhost:8080/"
        },
        "id": "XkBTcEPv3rbv",
        "outputId": "370782f8-bd31-4a57-e3f8-58809868f6d4"
      },
      "execution_count": 187,
      "outputs": [
        {
          "output_type": "stream",
          "name": "stdout",
          "text": [
            "+------+------+------+-------+--------+--------+--------+--------+\n",
            "|O-3(n)|3-6(n)|6-9(d)|9-12(d)|12-15(d)|15-18(d)|18-21(n)|21-24(n)|\n",
            "+------+------+------+-------+--------+--------+--------+--------+\n",
            "|     2|     6|    29|     40|      39|      40|      18|       7|\n",
            "|     2|     6|    22|     41|      33|      33|      23|       8|\n",
            "|     2|     8|    31|     35|      28|      36|      25|      15|\n",
            "|     2|     5|    29|     42|      43|      43|      37|      14|\n",
            "|     0|     8|    27|     28|      38|      42|      50|      13|\n",
            "|     1|     3|    17|     33|      33|      23|      38|       7|\n",
            "|     2|     5|    20|     30|      30|      27|      31|       7|\n",
            "|     3|     7|    33|     24|      40|      31|      40|      13|\n",
            "|     2|     6|    35|     41|      64|      54|      50|      19|\n",
            "|     2|    10|    36|     45|      64|      57|      53|      18|\n",
            "|     4|     3|    36|     27|      46|      50|      51|      18|\n",
            "|     4|     6|    26|     29|      54|      45|      58|      14|\n",
            "|     2|     3|    22|     31|      40|      40|      37|      25|\n",
            "|     4|     6|    25|     28|      55|      36|      41|      23|\n",
            "|  2239|  3265|  3198|   3729|    3604|    3792|    4098|    3263|\n",
            "|  2931|  3857|  3671|   4255|    4153|    4778|    4844|    4088|\n",
            "|  3158|  4865|  3749|   4319|    4266|    4853|    5218|    4109|\n",
            "|  3191|  4770|  4598|   5030|    4033|    4971|    6031|    4454|\n",
            "|  3826|  6011|  5002|   4137|    4261|    4524|    5096|    4432|\n",
            "|  3635|  5525|  4270|   5108|    4918|    6101|    6757|    5009|\n",
            "+------+------+------+-------+--------+--------+--------+--------+\n",
            "only showing top 20 rows\n",
            "\n",
            "+--------+--------+\n",
            "|   month|   value|\n",
            "+--------+--------+\n",
            "|15-18(d)|906639.0|\n",
            "+--------+--------+\n",
            "\n"
          ]
        }
      ]
    },
    {
      "cell_type": "code",
      "source": [
        "#6. Which state has more accidents from year 2001 to 2014?\n",
        "#col=[month for month in accidents.columns[2:-1]]\n",
        "filter_by_year=accidents.filter(col(\"YEAR\").between(2001,2014))\n",
        "total_accidents_per_state=filter_by_year.groupBy(\"State/UT\").agg(sum(\"Total\").alias(\"Total\"))\n",
        "max_state=total_accidents_per_state.orderBy(\"Total\",ascending=False).first()[0]\n",
        "print(\"State with max accidents from 2001 to 2014:\",max_state)"
      ],
      "metadata": {
        "colab": {
          "base_uri": "https://localhost:8080/"
        },
        "id": "snDylnBW30oO",
        "outputId": "7aa6d352-62f4-49a3-c4f7-e7c0ef526aff"
      },
      "execution_count": 161,
      "outputs": [
        {
          "output_type": "stream",
          "name": "stdout",
          "text": [
            "State with max accidents from 2001 to 2014: Tamil Nadu\n"
          ]
        }
      ]
    },
    {
      "cell_type": "code",
      "source": [
        "#7. List states whose accidents number in year 2014 is less than state average from 2001 to 2014.\n",
        "state_average=accidents.filter(col(\"YEAR\").between(2001,2014)).groupBy(\"State/UT\").agg(avg(\"Total\").alias(\"Avg_Total\")).orderBy(\"State/UT\")\n",
        "filter_by_year=accidents.select(col(\"State/UT\"),col(\"Total\")).filter(col(\"YEAR\")==2014).orderBy(\"State/UT\")\n",
        "df1=filter_by_year.join(state_average,on=\"State/UT\")\n",
        "df2=df1.filter(col(\"Total\")<col(\"Avg_Total\"))\n",
        "df1.show()\n",
        "df2.select((\"State/UT\")).show()\n",
        "\n"
      ],
      "metadata": {
        "colab": {
          "base_uri": "https://localhost:8080/"
        },
        "id": "1LhoWxU54Dg7",
        "outputId": "ae8e3a8f-344e-42a2-927b-4acd6b973042"
      },
      "execution_count": 138,
      "outputs": [
        {
          "output_type": "stream",
          "name": "stdout",
          "text": [
            "+-----------------+-------+------------------+\n",
            "|         State/UT|  Total|         Avg_Total|\n",
            "+-----------------+-------+------------------+\n",
            "|    A & N Islands|  218.0|206.64285714285714|\n",
            "|   Andhra Pradesh|43232.0|39058.642857142855|\n",
            "|Arunachal Pradesh|  185.0|242.07142857142858|\n",
            "|            Assam| 7144.0| 4408.428571428572|\n",
            "|            Bihar| 9531.0| 6617.714285714285|\n",
            "|       Chandigarh|  366.0|457.92857142857144|\n",
            "|     Chhattisgarh|12140.0|            8415.5|\n",
            "|       D&N Haveli|   87.0|              87.0|\n",
            "|      Daman & Diu|   39.0| 45.92857142857143|\n",
            "|         Delhi Ut| 8310.0|            8310.0|\n",
            "|              Goa| 4230.0|3209.3571428571427|\n",
            "|          Gujarat|22152.0|21451.785714285714|\n",
            "|          Haryana|11043.0|  9422.92857142857|\n",
            "| Himachal Pradesh| 3325.0|2650.3571428571427|\n",
            "|  Jammu & Kashmir| 5778.0| 5915.714285714285|\n",
            "|        Jharkhand| 4905.0|3300.6428571428573|\n",
            "|        Karnataka|43694.0|41768.642857142855|\n",
            "|           Kerala|35872.0|           37011.5|\n",
            "|      Lakshadweep|    1.0|               1.0|\n",
            "|   Madhya Pradesh|39698.0| 28143.35714285714|\n",
            "+-----------------+-------+------------------+\n",
            "only showing top 20 rows\n",
            "\n",
            "+-----------------+\n",
            "|         State/UT|\n",
            "+-----------------+\n",
            "|Arunachal Pradesh|\n",
            "|       Chandigarh|\n",
            "|      Daman & Diu|\n",
            "|  Jammu & Kashmir|\n",
            "|           Kerala|\n",
            "|      Maharashtra|\n",
            "|         Nagaland|\n",
            "|       Puducherry|\n",
            "|           Sikkim|\n",
            "|          Tripura|\n",
            "|      Uttarakhand|\n",
            "+-----------------+\n",
            "\n"
          ]
        }
      ]
    },
    {
      "cell_type": "code",
      "source": [
        "#8. Which month has more accidents over the year?\n",
        "highest_acc = accidents.select([col for col in accidents.columns if col!= 'STATE/UT' and col!='YEAR'])\n",
        "var  = {}\n",
        "for i in highest_acc.columns:\n",
        "  var[i] = highest_acc.agg({i:'sum'}).collect()[0][0]\n",
        "df4 = spark.createDataFrame(var.items(), [\"month\", \"value\"])\n",
        "maxValue = df4.agg({'value':'max'}).collect()[0][0]\n",
        "df4.select('month','value').where(col('value')==maxValue).show()"
      ],
      "metadata": {
        "colab": {
          "base_uri": "https://localhost:8080/"
        },
        "id": "pcPhjVvX4GLE",
        "outputId": "6eb16500-df80-45e2-8573-b2897e0456d9"
      },
      "execution_count": 256,
      "outputs": [
        {
          "output_type": "stream",
          "name": "stdout",
          "text": [
            "+-----+--------+\n",
            "|month|   value|\n",
            "+-----+--------+\n",
            "|  MAY|521563.0|\n",
            "+-----+--------+\n",
            "\n"
          ]
        }
      ]
    },
    {
      "cell_type": "code",
      "source": [],
      "metadata": {
        "id": "EaT_T_olXGq8"
      },
      "execution_count": null,
      "outputs": []
    }
  ]
}