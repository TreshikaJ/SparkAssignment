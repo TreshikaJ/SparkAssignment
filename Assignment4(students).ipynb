{
  "nbformat": 4,
  "nbformat_minor": 0,
  "metadata": {
    "colab": {
      "provenance": []
    },
    "kernelspec": {
      "name": "python3",
      "display_name": "Python 3"
    },
    "language_info": {
      "name": "python"
    }
  },
  "cells": [
    {
      "cell_type": "code",
      "source": [
        "!pip install pyspark"
      ],
      "metadata": {
        "colab": {
          "base_uri": "https://localhost:8080/"
        },
        "id": "lALCStYfQxDJ",
        "outputId": "78d44406-25a0-4f8f-8995-2db487a25dd0"
      },
      "execution_count": null,
      "outputs": [
        {
          "output_type": "stream",
          "name": "stdout",
          "text": [
            "Collecting pyspark\n",
            "  Downloading pyspark-3.5.0.tar.gz (316.9 MB)\n",
            "\u001b[2K     \u001b[90m━━━━━━━━━━━━━━━━━━━━━━━━━━━━━━━━━━━━━━━━\u001b[0m \u001b[32m316.9/316.9 MB\u001b[0m \u001b[31m4.3 MB/s\u001b[0m eta \u001b[36m0:00:00\u001b[0m\n",
            "\u001b[?25h  Preparing metadata (setup.py) ... \u001b[?25l\u001b[?25hdone\n",
            "Requirement already satisfied: py4j==0.10.9.7 in /usr/local/lib/python3.10/dist-packages (from pyspark) (0.10.9.7)\n",
            "Building wheels for collected packages: pyspark\n",
            "  Building wheel for pyspark (setup.py) ... \u001b[?25l\u001b[?25hdone\n",
            "  Created wheel for pyspark: filename=pyspark-3.5.0-py2.py3-none-any.whl size=317425344 sha256=040bd02bd1fc30a6d64879a0811f132a947a076771c506cf0af63db7b06aaaf4\n",
            "  Stored in directory: /root/.cache/pip/wheels/41/4e/10/c2cf2467f71c678cfc8a6b9ac9241e5e44a01940da8fbb17fc\n",
            "Successfully built pyspark\n",
            "Installing collected packages: pyspark\n",
            "Successfully installed pyspark-3.5.0\n"
          ]
        }
      ]
    },
    {
      "cell_type": "code",
      "execution_count": null,
      "metadata": {
        "id": "IGI78vgqQG-w"
      },
      "outputs": [],
      "source": [
        "import pyspark\n",
        "from pyspark.sql import SparkSession\n",
        "spark=SparkSession.builder.appName(\"Spark\").getOrCreate()"
      ]
    },
    {
      "cell_type": "code",
      "source": [
        "\n",
        "student=spark.read.csv(\"/content/students(1).csv\",header=True)\n",
        "student_rdd=spark.sparkContext.textFile(\"/content/students(1).csv\")\n",
        "student.show()"
      ],
      "metadata": {
        "colab": {
          "base_uri": "https://localhost:8080/"
        },
        "id": "L8MLRasFQ1Vv",
        "outputId": "118b0f39-0a5a-4157-dfea-855a988527bc"
      },
      "execution_count": null,
      "outputs": [
        {
          "output_type": "stream",
          "name": "stdout",
          "text": [
            "+------+--------------+---------------------------+------------+-----------------------+----------+-------------+-------------+\n",
            "|gender|race/ethnicity|parental level of education|       lunch|test preparation course|math score|reading score|writing score|\n",
            "+------+--------------+---------------------------+------------+-----------------------+----------+-------------+-------------+\n",
            "|female|       group B|          bachelor's degree|    standard|                   none|        72|           72|           74|\n",
            "|female|       group C|               some college|    standard|              completed|        69|           90|           88|\n",
            "|female|       group B|            master's degree|    standard|                   none|        90|           95|           93|\n",
            "|  male|       group A|         associate's degree|free/reduced|                   none|        47|           57|           44|\n",
            "|  male|       group C|               some college|    standard|                   none|        76|           78|           75|\n",
            "|female|       group B|         associate's degree|    standard|                   none|        71|           83|           78|\n",
            "|female|       group B|               some college|    standard|              completed|        88|           95|           92|\n",
            "|  male|       group B|               some college|free/reduced|                   none|        40|           43|           39|\n",
            "|  male|       group D|                high school|free/reduced|              completed|        64|           64|           67|\n",
            "|female|       group B|                high school|free/reduced|                   none|        38|           60|           50|\n",
            "|  male|       group C|         associate's degree|    standard|                   none|        58|           54|           52|\n",
            "|  male|       group D|         associate's degree|    standard|                   none|        40|           52|           43|\n",
            "|female|       group B|                high school|    standard|                   none|        65|           81|           73|\n",
            "|  male|       group A|               some college|    standard|              completed|        78|           72|           70|\n",
            "|female|       group A|            master's degree|    standard|                   none|        50|           53|           58|\n",
            "|female|       group C|           some high school|    standard|                   none|        69|           75|           78|\n",
            "|  male|       group C|                high school|    standard|                   none|        88|           89|           86|\n",
            "|female|       group B|           some high school|free/reduced|                   none|        18|           32|           28|\n",
            "|  male|       group C|            master's degree|free/reduced|              completed|        46|           42|           46|\n",
            "|female|       group C|         associate's degree|free/reduced|                   none|        54|           58|           61|\n",
            "+------+--------------+---------------------------+------------+-----------------------+----------+-------------+-------------+\n",
            "only showing top 20 rows\n",
            "\n"
          ]
        }
      ]
    },
    {
      "cell_type": "code",
      "source": [
        "#1.Number of male and female students\n",
        "gender_count=student.groupBy(\"gender\").count()\n",
        "gender_count.show()"
      ],
      "metadata": {
        "colab": {
          "base_uri": "https://localhost:8080/"
        },
        "id": "mHWxNutOSfuO",
        "outputId": "878d643c-90dc-42db-9f24-3587509fb413"
      },
      "execution_count": null,
      "outputs": [
        {
          "output_type": "stream",
          "name": "stdout",
          "text": [
            "+------+-----+\n",
            "|gender|count|\n",
            "+------+-----+\n",
            "|female|  518|\n",
            "|  male|  482|\n",
            "+------+-----+\n",
            "\n"
          ]
        }
      ]
    },
    {
      "cell_type": "code",
      "source": [
        "#2.List different race/ethnicity\n",
        "race=student.select(\"race/ethnicity\").distinct()\n",
        "race.show()\n"
      ],
      "metadata": {
        "colab": {
          "base_uri": "https://localhost:8080/"
        },
        "id": "H7ZcIYBTSe-m",
        "outputId": "9a2bdb8b-b24a-447b-d1ea-369ce86cb457"
      },
      "execution_count": null,
      "outputs": [
        {
          "output_type": "stream",
          "name": "stdout",
          "text": [
            "+--------------+\n",
            "|race/ethnicity|\n",
            "+--------------+\n",
            "|       group B|\n",
            "|       group C|\n",
            "|       group D|\n",
            "|       group A|\n",
            "|       group E|\n",
            "+--------------+\n",
            "\n"
          ]
        }
      ]
    },
    {
      "cell_type": "code",
      "source": [
        "#3.What are different parental level of education\n",
        "parental_education=student.select(\"parental level of education\").distinct()\n",
        "parental_education.show()"
      ],
      "metadata": {
        "colab": {
          "base_uri": "https://localhost:8080/"
        },
        "id": "KBIcJgbBYykN",
        "outputId": "db0d055b-4a6a-44bf-aa2a-858e069184af"
      },
      "execution_count": null,
      "outputs": [
        {
          "output_type": "stream",
          "name": "stdout",
          "text": [
            "+---------------------------+\n",
            "|parental level of education|\n",
            "+---------------------------+\n",
            "|           some high school|\n",
            "|         associate's degree|\n",
            "|                high school|\n",
            "|          bachelor's degree|\n",
            "|            master's degree|\n",
            "|               some college|\n",
            "+---------------------------+\n",
            "\n"
          ]
        }
      ]
    },
    {
      "cell_type": "code",
      "source": [
        "#4.How many female students scored more than 79 marks in math, whose parental level of education is 'high school'\n",
        "#parent_high_school=student.filter(\"parental level of education\"==\"high school\")\n",
        "from pyspark.sql.functions import col\n",
        "female_students=student.filter(col(\"gender\")==\"female\")\n",
        "score_greater_79=female_students.filter(col(\"math score\")>=79)\n",
        "parental_education_high_school=score_greater_79.filter(col(\"parental level of education\")==\"high school\")\n",
        "parental_education_high_school.show()\n"
      ],
      "metadata": {
        "colab": {
          "base_uri": "https://localhost:8080/"
        },
        "id": "O78c7aaRZM57",
        "outputId": "14110845-0a2b-41cf-e458-78f3b22af5e5"
      },
      "execution_count": null,
      "outputs": [
        {
          "output_type": "stream",
          "name": "stdout",
          "text": [
            "+------+--------------+---------------------------+--------+-----------------------+----------+-------------+-------------+\n",
            "|gender|race/ethnicity|parental level of education|   lunch|test preparation course|math score|reading score|writing score|\n",
            "+------+--------------+---------------------------+--------+-----------------------+----------+-------------+-------------+\n",
            "|female|       group B|                high school|standard|                   none|        87|           95|           86|\n",
            "|female|       group E|                high school|standard|                   none|        99|           93|           90|\n",
            "|female|       group D|                high school|standard|              completed|        88|           99|          100|\n",
            "|female|       group B|                high school|standard|                   none|        81|           91|           89|\n",
            "|female|       group C|                high school|standard|                   none|        81|           84|           82|\n",
            "+------+--------------+---------------------------+--------+-----------------------+----------+-------------+-------------+\n",
            "\n"
          ]
        }
      ]
    },
    {
      "cell_type": "code",
      "source": [
        "#5.Check whether average maths score of male or female students are high?\n",
        "from pyspark.sql.functions import avg\n",
        "high_avg_marks_gender=student.groupBy(\"gender\").agg(avg(\"math score\").alias(\"Avg_math_score\")).orderBy(\"Avg_math_score\").first()[0]\n",
        "high_avg_marks_gender\n"
      ],
      "metadata": {
        "colab": {
          "base_uri": "https://localhost:8080/",
          "height": 35
        },
        "id": "QN1yDQWjaBWN",
        "outputId": "6f149fc2-4a1b-4993-b92f-3a4c99396462"
      },
      "execution_count": null,
      "outputs": [
        {
          "output_type": "execute_result",
          "data": {
            "text/plain": [
              "'female'"
            ],
            "application/vnd.google.colaboratory.intrinsic+json": {
              "type": "string"
            }
          },
          "metadata": {},
          "execution_count": 85
        }
      ]
    },
    {
      "cell_type": "code",
      "source": [
        "#6.What is average reading score of male and female students?\n",
        "avg_reading_score=student.groupBy(\"gender\").agg(avg(\"reading score\").alias(\"Avg_reading_score\"))\n",
        "avg_reading_score.show()\n"
      ],
      "metadata": {
        "colab": {
          "base_uri": "https://localhost:8080/"
        },
        "id": "2_-i8dD8d7d_",
        "outputId": "1084be4e-8a6f-480f-a668-5162e4b23d4e"
      },
      "execution_count": null,
      "outputs": [
        {
          "output_type": "stream",
          "name": "stdout",
          "text": [
            "+------+-----------------+\n",
            "|gender|Avg_reading_score|\n",
            "+------+-----------------+\n",
            "|female|72.60810810810811|\n",
            "|  male|65.47302904564316|\n",
            "+------+-----------------+\n",
            "\n"
          ]
        }
      ]
    },
    {
      "cell_type": "code",
      "source": [
        "#7.Whether students score depends upon 'parental level of education'? Justify your answer\n",
        "import matplotlib.pyplot as plt\n",
        "p_level_edu=student.select(col(\"parental level of education\"),col(\"math score\"),col(\"reading score\"),col(\"writing score\"))\n",
        "p_level_edu=p_level_edu.withColumn(\"avg_score\", (col(\"math score\") + col(\"reading score\") + col(\"writing score\")) / 3)\n",
        "p_level_edu=p_level_edu.drop(col(\"math score\"),col(\"reading score\"),col(\"writing score\"))\n",
        "edu_marks=p_level_edu.groupBy(\"parental level of education\").agg(avg(\"avg_score\").alias(\"avg_score\")).toPandas()\n",
        "plt.figure(figsize=(8, 6))\n",
        "plt.bar(edu_marks[\"parental level of education\"],edu_marks[\"avg_score\"])\n",
        "plt.xlabel(\"Parental Level of Education\")\n",
        "plt.ylabel(\"Average Score\")\n",
        "plt.title(\"Average Score by Parental Level of Education\")\n",
        "plt.xticks(rotation=45)\n",
        "plt.show()"
      ],
      "metadata": {
        "colab": {
          "base_uri": "https://localhost:8080/",
          "height": 652
        },
        "id": "BVzB0kVCkWoF",
        "outputId": "abbb5c82-9abd-4330-b0b5-b0ece7e5ac2e"
      },
      "execution_count": null,
      "outputs": [
        {
          "output_type": "display_data",
          "data": {
            "text/plain": [
              "<Figure size 800x600 with 1 Axes>"
            ],
            "image/png": "[encoded data removed]"
          },
          "metadata": {}
        }
      ]
    },
    {
      "cell_type": "code",
      "source": [
        "#List the records where 'test preparation course' is 'none' and scored more than 70 in maths.\n",
        "test_prep_course_none=student.filter(col(\"test preparation course\")==\"none\")\n",
        "score_greater_70=test_prep_course_none.filter(col(\"math score\")>70)\n",
        "score_greater_70.show()\n"
      ],
      "metadata": {
        "colab": {
          "base_uri": "https://localhost:8080/"
        },
        "id": "islNvn9jk6rj",
        "outputId": "0f0d237d-c763-47bf-be00-a1cf9975f635"
      },
      "execution_count": null,
      "outputs": [
        {
          "output_type": "stream",
          "name": "stdout",
          "text": [
            "+------+--------------+---------------------------+------------+-----------------------+----------+-------------+-------------+\n",
            "|gender|race/ethnicity|parental level of education|       lunch|test preparation course|math score|reading score|writing score|\n",
            "+------+--------------+---------------------------+------------+-----------------------+----------+-------------+-------------+\n",
            "|female|       group B|          bachelor's degree|    standard|                   none|        72|           72|           74|\n",
            "|female|       group B|            master's degree|    standard|                   none|        90|           95|           93|\n",
            "|  male|       group C|               some college|    standard|                   none|        76|           78|           75|\n",
            "|female|       group B|         associate's degree|    standard|                   none|        71|           83|           78|\n",
            "|  male|       group C|                high school|    standard|                   none|        88|           89|           86|\n",
            "|  male|       group A|            master's degree|free/reduced|                   none|        73|           74|           72|\n",
            "|  male|       group E|               some college|    standard|                   none|        97|           87|           82|\n",
            "|female|       group D|         associate's degree|    standard|                   none|        74|           81|           83|\n",
            "|  male|       group D|                high school|    standard|                   none|        88|           78|           75|\n",
            "|  male|       group E|         associate's degree|    standard|                   none|        72|           64|           63|\n",
            "|female|       group C|               some college|    standard|                   none|        73|           80|           82|\n",
            "|female|       group C|               some college|free/reduced|                   none|        76|           83|           88|\n",
            "|female|       group D|         associate's degree|    standard|                   none|        71|           71|           74|\n",
            "|female|       group D|           some high school|    standard|                   none|        73|           86|           82|\n",
            "|  male|       group C|                high school|    standard|                   none|        71|           79|           71|\n",
            "|female|       group B|               some college|    standard|                   none|        79|           86|           92|\n",
            "|  male|       group B|               some college|    standard|                   none|        79|           67|           67|\n",
            "|female|       group D|         associate's degree|    standard|                   none|        85|           91|           89|\n",
            "|female|       group D|            master's degree|    standard|                   none|        87|          100|          100|\n",
            "|  male|       group C|                high school|    standard|                   none|        84|           77|           74|\n",
            "+------+--------------+---------------------------+------------+-----------------------+----------+-------------+-------------+\n",
            "only showing top 20 rows\n",
            "\n"
          ]
        }
      ]
    },
    {
      "cell_type": "code",
      "source": [],
      "metadata": {
        "id": "TRp9VG4dlKAp"
      },
      "execution_count": null,
      "outputs": []
    }
  ]
}